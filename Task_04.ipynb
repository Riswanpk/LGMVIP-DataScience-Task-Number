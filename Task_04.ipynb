{
  "nbformat": 4,
  "nbformat_minor": 0,
  "metadata": {
    "colab": {
      "provenance": [],
      "authorship_tag": "ABX9TyMERNdCj9J0rV2QvQpU9hoU",
      "include_colab_link": true
    },
    "kernelspec": {
      "name": "python3",
      "display_name": "Python 3"
    },
    "language_info": {
      "name": "python"
    }
  },
  "cells": [
    {
      "cell_type": "markdown",
      "metadata": {
        "id": "view-in-github",
        "colab_type": "text"
      },
      "source": [
        "<a href=\"https://colab.research.google.com/github/Riswanpk/LGMVIP-DataScience-Task-Number/blob/main/Task_04.ipynb\" target=\"_parent\"><img src=\"https://colab.research.google.com/assets/colab-badge.svg\" alt=\"Open In Colab\"/></a>"
      ]
    },
    {
      "cell_type": "markdown",
      "source": [
        "# TASK 04 : DEVELOP A NEURAL NETWORK THAT CAN READ HANDWRITING"
      ],
      "metadata": {
        "id": "4nD9M-PWsMOS"
      }
    },
    {
      "cell_type": "markdown",
      "source": [
        "**Step 01 : Importing Necessary Libraries**"
      ],
      "metadata": {
        "id": "Vis8ma8_tFWz"
      }
    },
    {
      "cell_type": "code",
      "execution_count": 1,
      "metadata": {
        "id": "KfemLl74JVuc"
      },
      "outputs": [],
      "source": [
        "import numpy as np\n",
        "import tensorflow as tf\n",
        "from tensorflow.keras import layers, models\n",
        "from tensorflow.keras.datasets import mnist\n",
        "from tensorflow.keras.utils import to_categorical\n",
        "import matplotlib.pyplot as plt\n",
        "from PIL import Image"
      ]
    },
    {
      "cell_type": "markdown",
      "source": [
        "**Step 02 : Load and Preprocess the dataset**"
      ],
      "metadata": {
        "id": "ZHgokrbytSFa"
      }
    },
    {
      "cell_type": "code",
      "source": [
        "(x_train,y_train),(x_test,y_test)=mnist.load_data()\n",
        "x_train=x_train.astype('float32')/255\n",
        "x_test=x_test.astype('float32')/255\n",
        "\n",
        "x_train=x_train.reshape(-1,28,28,1)\n",
        "x_test=x_test.reshape(-1,28,28,1)"
      ],
      "metadata": {
        "colab": {
          "base_uri": "https://localhost:8080/"
        },
        "id": "ImSedOVtg-bO",
        "outputId": "0ca66e11-23c0-4be6-add8-f088b39b7d34"
      },
      "execution_count": 2,
      "outputs": [
        {
          "output_type": "stream",
          "name": "stdout",
          "text": [
            "Downloading data from https://storage.googleapis.com/tensorflow/tf-keras-datasets/mnist.npz\n",
            "11490434/11490434 [==============================] - 0s 0us/step\n"
          ]
        }
      ]
    },
    {
      "cell_type": "markdown",
      "source": [
        "**Step 03 : One-hot encode labels**"
      ],
      "metadata": {
        "id": "YzE-pmHDtZOC"
      }
    },
    {
      "cell_type": "code",
      "source": [
        "y_train=to_categorical(y_train,10)\n",
        "y_test=to_categorical(y_test,10)"
      ],
      "metadata": {
        "id": "RSvVx_uchfdp"
      },
      "execution_count": 3,
      "outputs": []
    },
    {
      "cell_type": "markdown",
      "source": [
        "**Step 04 : Build the CNN Model**"
      ],
      "metadata": {
        "id": "6NcJ5hyIthok"
      }
    },
    {
      "cell_type": "code",
      "source": [
        "model=models.Sequential()\n",
        "\n",
        "model.add(layers.Conv2D(32,(3,3),activation='relu',input_shape=(28,28,1)))\n",
        "model.add(layers.MaxPooling2D((2,2)))\n",
        "model.add(layers.Conv2D(64,(3,3),activation='relu'))\n",
        "model.add(layers.MaxPooling2D((2,2)))"
      ],
      "metadata": {
        "id": "qCOF99zzhmnz"
      },
      "execution_count": 4,
      "outputs": []
    },
    {
      "cell_type": "code",
      "source": [
        "model.add(layers.Flatten())"
      ],
      "metadata": {
        "id": "GNVougl3iE7x"
      },
      "execution_count": 5,
      "outputs": []
    },
    {
      "cell_type": "code",
      "source": [
        "model.add(layers.Dense(64,activation='relu'))\n",
        "model.add(layers.Dense(10,activation='softmax'))"
      ],
      "metadata": {
        "id": "NXXC64V6iLlb"
      },
      "execution_count": 6,
      "outputs": []
    },
    {
      "cell_type": "markdown",
      "source": [
        "**Step 05 : Compile The Model**"
      ],
      "metadata": {
        "id": "nTatIutptpvB"
      }
    },
    {
      "cell_type": "code",
      "source": [
        "model.compile(optimizer='adam',\n",
        "              loss='categorical_crossentropy',\n",
        "              metrics=['accuracy'])"
      ],
      "metadata": {
        "id": "RgpyKFe_iWeq"
      },
      "execution_count": 7,
      "outputs": []
    },
    {
      "cell_type": "markdown",
      "source": [
        "**Step 06 : Display model Summary**"
      ],
      "metadata": {
        "id": "lUaIiXq9tu2Q"
      }
    },
    {
      "cell_type": "code",
      "source": [
        "model.summary()"
      ],
      "metadata": {
        "colab": {
          "base_uri": "https://localhost:8080/"
        },
        "id": "1hgbbnJxikzF",
        "outputId": "691d32a9-33f7-456a-e0e4-e19de0d8379a"
      },
      "execution_count": 8,
      "outputs": [
        {
          "output_type": "stream",
          "name": "stdout",
          "text": [
            "Model: \"sequential\"\n",
            "_________________________________________________________________\n",
            " Layer (type)                Output Shape              Param #   \n",
            "=================================================================\n",
            " conv2d (Conv2D)             (None, 26, 26, 32)        320       \n",
            "                                                                 \n",
            " max_pooling2d (MaxPooling2D  (None, 13, 13, 32)       0         \n",
            " )                                                               \n",
            "                                                                 \n",
            " conv2d_1 (Conv2D)           (None, 11, 11, 64)        18496     \n",
            "                                                                 \n",
            " max_pooling2d_1 (MaxPooling  (None, 5, 5, 64)         0         \n",
            " 2D)                                                             \n",
            "                                                                 \n",
            " flatten (Flatten)           (None, 1600)              0         \n",
            "                                                                 \n",
            " dense (Dense)               (None, 64)                102464    \n",
            "                                                                 \n",
            " dense_1 (Dense)             (None, 10)                650       \n",
            "                                                                 \n",
            "=================================================================\n",
            "Total params: 121,930\n",
            "Trainable params: 121,930\n",
            "Non-trainable params: 0\n",
            "_________________________________________________________________\n"
          ]
        }
      ]
    },
    {
      "cell_type": "markdown",
      "source": [
        "**Step 07 : Train the Model**"
      ],
      "metadata": {
        "id": "ZgIKzGDEt1mJ"
      }
    },
    {
      "cell_type": "code",
      "source": [
        "history=model.fit(x_train,y_train,epochs=10,batch_size=128,validation_data=(x_test,y_test))"
      ],
      "metadata": {
        "colab": {
          "base_uri": "https://localhost:8080/"
        },
        "id": "KoR95levipJt",
        "outputId": "a34f0141-4031-4b19-e20d-49cabff37052"
      },
      "execution_count": 9,
      "outputs": [
        {
          "output_type": "stream",
          "name": "stdout",
          "text": [
            "Epoch 1/10\n",
            "469/469 [==============================] - 35s 72ms/step - loss: 0.2219 - accuracy: 0.9363 - val_loss: 0.0753 - val_accuracy: 0.9771\n",
            "Epoch 2/10\n",
            "469/469 [==============================] - 34s 72ms/step - loss: 0.0631 - accuracy: 0.9807 - val_loss: 0.0408 - val_accuracy: 0.9859\n",
            "Epoch 3/10\n",
            "469/469 [==============================] - 33s 71ms/step - loss: 0.0442 - accuracy: 0.9869 - val_loss: 0.0381 - val_accuracy: 0.9874\n",
            "Epoch 4/10\n",
            "469/469 [==============================] - 32s 68ms/step - loss: 0.0342 - accuracy: 0.9894 - val_loss: 0.0369 - val_accuracy: 0.9875\n",
            "Epoch 5/10\n",
            "469/469 [==============================] - 37s 80ms/step - loss: 0.0280 - accuracy: 0.9914 - val_loss: 0.0302 - val_accuracy: 0.9902\n",
            "Epoch 6/10\n",
            "469/469 [==============================] - 34s 72ms/step - loss: 0.0229 - accuracy: 0.9929 - val_loss: 0.0266 - val_accuracy: 0.9904\n",
            "Epoch 7/10\n",
            "469/469 [==============================] - 34s 72ms/step - loss: 0.0196 - accuracy: 0.9939 - val_loss: 0.0319 - val_accuracy: 0.9891\n",
            "Epoch 8/10\n",
            "469/469 [==============================] - 34s 73ms/step - loss: 0.0157 - accuracy: 0.9951 - val_loss: 0.0251 - val_accuracy: 0.9912\n",
            "Epoch 9/10\n",
            "469/469 [==============================] - 34s 73ms/step - loss: 0.0136 - accuracy: 0.9956 - val_loss: 0.0297 - val_accuracy: 0.9909\n",
            "Epoch 10/10\n",
            "469/469 [==============================] - 33s 70ms/step - loss: 0.0111 - accuracy: 0.9964 - val_loss: 0.0284 - val_accuracy: 0.9906\n"
          ]
        }
      ]
    },
    {
      "cell_type": "markdown",
      "source": [
        "**Step 08 : Evaluate the Model**"
      ],
      "metadata": {
        "id": "-j5NqAJot6Qg"
      }
    },
    {
      "cell_type": "code",
      "source": [
        "test_loss,test_accuracy=model.evaluate(x_test,y_test)\n",
        "print(f'Test accuracy: {test_accuracy}')"
      ],
      "metadata": {
        "colab": {
          "base_uri": "https://localhost:8080/"
        },
        "id": "wZcqfhwHlEvL",
        "outputId": "21a93f8e-a1ca-464b-d191-ba1c72e5046c"
      },
      "execution_count": 10,
      "outputs": [
        {
          "output_type": "stream",
          "name": "stdout",
          "text": [
            "313/313 [==============================] - 2s 6ms/step - loss: 0.0284 - accuracy: 0.9906\n",
            "Test accuracy: 0.9905999898910522\n"
          ]
        }
      ]
    },
    {
      "cell_type": "markdown",
      "source": [
        "**Step 09 : Test model with sample image from test data**"
      ],
      "metadata": {
        "id": "jWloqyBduBou"
      }
    },
    {
      "cell_type": "code",
      "source": [
        "sample_image_idx=np.random.randint(0,len(x_test))\n",
        "sample_image=x_test[sample_image_idx]\n",
        "\n",
        "true_label=np.argmax(y_test[sample_image_idx])\n",
        "\n",
        "sample_image=sample_image.reshape(1,28,28,1)\n",
        "\n",
        "predictions=model.predict(sample_image)\n",
        "predicted_label=np.argmax(predictions)\n",
        "\n",
        "print(f'True label: {true_label}, Predicted label: {predicted_label}')"
      ],
      "metadata": {
        "colab": {
          "base_uri": "https://localhost:8080/"
        },
        "id": "V-4FztsvlRZT",
        "outputId": "b7bad362-f1e2-4dc9-a09c-fc7b18db513a"
      },
      "execution_count": 11,
      "outputs": [
        {
          "output_type": "stream",
          "name": "stdout",
          "text": [
            "1/1 [==============================] - 0s 130ms/step\n",
            "True label: 1, Predicted label: 1\n"
          ]
        }
      ]
    },
    {
      "cell_type": "markdown",
      "source": [
        "**Step 10 : Testing Model on New image **"
      ],
      "metadata": {
        "id": "DKTH-Hm_uKb2"
      }
    },
    {
      "cell_type": "code",
      "source": [
        "image=Image.open('number.jpg')"
      ],
      "metadata": {
        "id": "eFVREqXlopDS"
      },
      "execution_count": 12,
      "outputs": []
    },
    {
      "cell_type": "code",
      "source": [
        "image=image.convert('L')"
      ],
      "metadata": {
        "id": "jMLKbeUfo1EO"
      },
      "execution_count": 13,
      "outputs": []
    },
    {
      "cell_type": "code",
      "source": [
        "plt.imshow(image,cmap='gray')\n",
        "plt.axis('off')\n",
        "plt.show()"
      ],
      "metadata": {
        "colab": {
          "base_uri": "https://localhost:8080/",
          "height": 406
        },
        "id": "vggHBzpyo4eE",
        "outputId": "c7ed6777-5df7-4ca9-c432-b8bfabcd1cca"
      },
      "execution_count": 14,
      "outputs": [
        {
          "output_type": "display_data",
          "data": {
            "text/plain": [
              "<Figure size 640x480 with 1 Axes>"
            ],
            "image/png": "[encoded data removed]"
          },
          "metadata": {}
        }
      ]
    },
    {
      "cell_type": "markdown",
      "source": [
        "**Step 11 : preprocess the image for prediction**"
      ],
      "metadata": {
        "id": "npFYxGfnuZGI"
      }
    },
    {
      "cell_type": "code",
      "source": [
        "image=image.resize((28,28))\n",
        "image=tf.keras.preprocessing.image.img_to_array(image)\n",
        "image=tf.reshape(image,(1,28,28,1))\n",
        "image=tf.cast(image,tf.float32)/255.0"
      ],
      "metadata": {
        "id": "yyURx9HvpAe0"
      },
      "execution_count": 15,
      "outputs": []
    },
    {
      "cell_type": "markdown",
      "source": [
        "**Step 12 : Make prediction**"
      ],
      "metadata": {
        "id": "FNWgcawluhOy"
      }
    },
    {
      "cell_type": "code",
      "source": [
        "prediction=model.predict(image)\n",
        "predicted_label=tf.argmax(prediction,axis=1)[0].numpy()\n",
        "\n",
        "print(f'Predicted label: {predicted_label}')"
      ],
      "metadata": {
        "colab": {
          "base_uri": "https://localhost:8080/"
        },
        "id": "FlIF-B3-pQ8C",
        "outputId": "35a9ef6f-2f99-4997-b88f-ea9f860acce5"
      },
      "execution_count": 16,
      "outputs": [
        {
          "output_type": "stream",
          "name": "stdout",
          "text": [
            "1/1 [==============================] - 0s 68ms/step\n",
            "Predicted label: 2\n"
          ]
        }
      ]
    }
  ]
}