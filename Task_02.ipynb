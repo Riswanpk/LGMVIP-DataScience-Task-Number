{
  "nbformat": 4,
  "nbformat_minor": 0,
  "metadata": {
    "colab": {
      "provenance": [],
      "authorship_tag": "ABX9TyNyYG5lTwMF3yPGOgh1Tq3x",
      "include_colab_link": true
    },
    "kernelspec": {
      "name": "python3",
      "display_name": "Python 3"
    },
    "language_info": {
      "name": "python"
    }
  },
  "cells": [
    {
      "cell_type": "markdown",
      "metadata": {
        "id": "view-in-github",
        "colab_type": "text"
      },
      "source": [
        "<a href=\"https://colab.research.google.com/github/Riswanpk/LGMVIP-DataScience-Task-Number/blob/main/Task_02.ipynb\" target=\"_parent\"><img src=\"https://colab.research.google.com/assets/colab-badge.svg\" alt=\"Open In Colab\"/></a>"
      ]
    },
    {
      "cell_type": "markdown",
      "source": [
        "# TASK 02 : STOCK MARKET PREDICTION & FORECASTING USING STACKED LSTM"
      ],
      "metadata": {
        "id": "vnD5Gpwjys0n"
      }
    },
    {
      "cell_type": "markdown",
      "source": [
        "**Step 01 : Importing Libraries**"
      ],
      "metadata": {
        "id": "FwCcCxQ_8qlu"
      }
    },
    {
      "cell_type": "code",
      "source": [
        "import numpy as np\n",
        "import pandas as pd\n",
        "import matplotlib.pyplot as plt\n",
        "from sklearn.preprocessing import MinMaxScaler\n",
        "from tensorflow.keras.models import Sequential\n",
        "from tensorflow.keras.layers import LSTM,Dense"
      ],
      "metadata": {
        "id": "WmxgJ9v8qQuq"
      },
      "execution_count": 1,
      "outputs": []
    },
    {
      "cell_type": "markdown",
      "source": [
        "**Step 02 : Loading the Dataset**"
      ],
      "metadata": {
        "id": "Td0_XjYn8wcw"
      }
    },
    {
      "cell_type": "code",
      "source": [
        "data=pd.read_csv('stock_data.csv')"
      ],
      "metadata": {
        "id": "UTl9a2mVqzE4"
      },
      "execution_count": 2,
      "outputs": []
    },
    {
      "cell_type": "markdown",
      "source": [
        "**Step 03 : Preprocess The Data**"
      ],
      "metadata": {
        "id": "CIK0H8Oq81cN"
      }
    },
    {
      "cell_type": "code",
      "source": [
        "scaler=MinMaxScaler(feature_range=(0,1))\n",
        "scaled_data=scaler.fit_transform(data['Close'].values.reshape(-1,1))"
      ],
      "metadata": {
        "id": "hvrLBLQzq5De"
      },
      "execution_count": 3,
      "outputs": []
    },
    {
      "cell_type": "markdown",
      "source": [
        "**Step 04 : Split Data into Training & Testing sets**"
      ],
      "metadata": {
        "id": "689AnYGX86sy"
      }
    },
    {
      "cell_type": "code",
      "source": [
        "train_size=int(len(scaled_data)*0.8)\n",
        "train_data=scaled_data[:train_size]\n",
        "test_data=scaled_data[train_size:]"
      ],
      "metadata": {
        "id": "ED_GQb2PrF-m"
      },
      "execution_count": 4,
      "outputs": []
    },
    {
      "cell_type": "markdown",
      "source": [
        "**Step 05 : Prepare data for LSTM**"
      ],
      "metadata": {
        "id": "bPtjNPzv9CKm"
      }
    },
    {
      "cell_type": "code",
      "source": [
        "def create_dataset(dataset,time_steps=1):\n",
        "  x,y=[],[]\n",
        "  for i in range(len(dataset)-time_steps-1):\n",
        "    x.append(dataset[i:(i+time_steps),0])\n",
        "    y.append(dataset[i+time_steps,0])\n",
        "  return np.array(x),np.array(y)"
      ],
      "metadata": {
        "id": "tZOWZ3uVrU69"
      },
      "execution_count": 5,
      "outputs": []
    },
    {
      "cell_type": "code",
      "source": [
        "time_steps=10\n",
        "x_train,y_train=create_dataset(train_data,time_steps)\n",
        "x_test,y_test=create_dataset(test_data,time_steps)"
      ],
      "metadata": {
        "id": "ehNJMFdnryBG"
      },
      "execution_count": 6,
      "outputs": []
    },
    {
      "cell_type": "markdown",
      "source": [
        "**Step 06 : Reshape input data for LSTM**"
      ],
      "metadata": {
        "id": "TUv867w19Mzi"
      }
    },
    {
      "cell_type": "code",
      "source": [
        "x_train=np.reshape(x_train,(x_train.shape[0],x_train.shape[1],1))\n",
        "x_test=np.reshape(x_test,(x_test.shape[0],x_test.shape[1],1))"
      ],
      "metadata": {
        "id": "PPQP9_BdsDAO"
      },
      "execution_count": 7,
      "outputs": []
    },
    {
      "cell_type": "markdown",
      "source": [
        "**Step 07 : Build the stacked LSTM model**"
      ],
      "metadata": {
        "id": "mTsR-0-w9SdS"
      }
    },
    {
      "cell_type": "code",
      "source": [
        "model=Sequential()\n",
        "model.add(LSTM(units=50,return_sequences=True,input_shape=(x_train.shape[1],1)))\n",
        "model.add(LSTM(units=50))\n",
        "model.add(Dense(units=1))\n",
        "model.compile(optimizer='adam',loss='mean_squared_error')"
      ],
      "metadata": {
        "id": "twiP-P3Psbud"
      },
      "execution_count": 8,
      "outputs": []
    },
    {
      "cell_type": "markdown",
      "source": [
        "**Step 08 : Train the model**"
      ],
      "metadata": {
        "id": "bKnRUOEZ9YrL"
      }
    },
    {
      "cell_type": "code",
      "source": [
        "model.fit(x_train,y_train,epochs=50,batch_size=32)"
      ],
      "metadata": {
        "colab": {
          "base_uri": "https://localhost:8080/"
        },
        "id": "v4DaXu2BtIle",
        "outputId": "8efbff70-b619-44af-b6ac-3f2819d874d0"
      },
      "execution_count": 9,
      "outputs": [
        {
          "output_type": "stream",
          "name": "stdout",
          "text": [
            "Epoch 1/50\n",
            "51/51 [==============================] - 3s 8ms/step - loss: 0.0222\n",
            "Epoch 2/50\n",
            "51/51 [==============================] - 0s 8ms/step - loss: 9.1986e-04\n",
            "Epoch 3/50\n",
            "51/51 [==============================] - 0s 8ms/step - loss: 9.0483e-04\n",
            "Epoch 4/50\n",
            "51/51 [==============================] - 0s 8ms/step - loss: 8.3309e-04\n",
            "Epoch 5/50\n",
            "51/51 [==============================] - 0s 7ms/step - loss: 8.7583e-04\n",
            "Epoch 6/50\n",
            "51/51 [==============================] - 0s 8ms/step - loss: 8.3429e-04\n",
            "Epoch 7/50\n",
            "51/51 [==============================] - 0s 8ms/step - loss: 8.0974e-04\n",
            "Epoch 8/50\n",
            "51/51 [==============================] - 0s 8ms/step - loss: 8.3321e-04\n",
            "Epoch 9/50\n",
            "51/51 [==============================] - 0s 8ms/step - loss: 8.0394e-04\n",
            "Epoch 10/50\n",
            "51/51 [==============================] - 0s 8ms/step - loss: 7.7699e-04\n",
            "Epoch 11/50\n",
            "51/51 [==============================] - 0s 8ms/step - loss: 7.4148e-04\n",
            "Epoch 12/50\n",
            "51/51 [==============================] - 0s 8ms/step - loss: 7.4591e-04\n",
            "Epoch 13/50\n",
            "51/51 [==============================] - 0s 8ms/step - loss: 7.4925e-04\n",
            "Epoch 14/50\n",
            "51/51 [==============================] - 0s 8ms/step - loss: 7.3223e-04\n",
            "Epoch 15/50\n",
            "51/51 [==============================] - 0s 7ms/step - loss: 6.7223e-04\n",
            "Epoch 16/50\n",
            "51/51 [==============================] - 0s 7ms/step - loss: 6.6369e-04\n",
            "Epoch 17/50\n",
            "51/51 [==============================] - 0s 8ms/step - loss: 6.8063e-04\n",
            "Epoch 18/50\n",
            "51/51 [==============================] - 0s 8ms/step - loss: 6.0231e-04\n",
            "Epoch 19/50\n",
            "51/51 [==============================] - 1s 11ms/step - loss: 5.8277e-04\n",
            "Epoch 20/50\n",
            "51/51 [==============================] - 1s 11ms/step - loss: 6.0063e-04\n",
            "Epoch 21/50\n",
            "51/51 [==============================] - 1s 11ms/step - loss: 5.5497e-04\n",
            "Epoch 22/50\n",
            "51/51 [==============================] - 1s 10ms/step - loss: 5.3643e-04\n",
            "Epoch 23/50\n",
            "51/51 [==============================] - 0s 8ms/step - loss: 5.6883e-04\n",
            "Epoch 24/50\n",
            "51/51 [==============================] - 0s 8ms/step - loss: 5.1801e-04\n",
            "Epoch 25/50\n",
            "51/51 [==============================] - 0s 8ms/step - loss: 6.4712e-04\n",
            "Epoch 26/50\n",
            "51/51 [==============================] - 0s 8ms/step - loss: 4.6224e-04\n",
            "Epoch 27/50\n",
            "51/51 [==============================] - 0s 8ms/step - loss: 5.1508e-04\n",
            "Epoch 28/50\n",
            "51/51 [==============================] - 0s 8ms/step - loss: 5.2475e-04\n",
            "Epoch 29/50\n",
            "51/51 [==============================] - 0s 8ms/step - loss: 4.6758e-04\n",
            "Epoch 30/50\n",
            "51/51 [==============================] - 0s 8ms/step - loss: 4.2689e-04\n",
            "Epoch 31/50\n",
            "51/51 [==============================] - 0s 8ms/step - loss: 4.3774e-04\n",
            "Epoch 32/50\n",
            "51/51 [==============================] - 0s 8ms/step - loss: 4.7554e-04\n",
            "Epoch 33/50\n",
            "51/51 [==============================] - 0s 8ms/step - loss: 4.4114e-04\n",
            "Epoch 34/50\n",
            "51/51 [==============================] - 0s 8ms/step - loss: 4.0773e-04\n",
            "Epoch 35/50\n",
            "51/51 [==============================] - 0s 8ms/step - loss: 3.8492e-04\n",
            "Epoch 36/50\n",
            "51/51 [==============================] - 0s 7ms/step - loss: 3.7393e-04\n",
            "Epoch 37/50\n",
            "51/51 [==============================] - 0s 8ms/step - loss: 3.6438e-04\n",
            "Epoch 38/50\n",
            "51/51 [==============================] - 0s 8ms/step - loss: 3.5384e-04\n",
            "Epoch 39/50\n",
            "51/51 [==============================] - 0s 8ms/step - loss: 3.7496e-04\n",
            "Epoch 40/50\n",
            "51/51 [==============================] - 0s 8ms/step - loss: 3.5784e-04\n",
            "Epoch 41/50\n",
            "51/51 [==============================] - 0s 8ms/step - loss: 3.5728e-04\n",
            "Epoch 42/50\n",
            "51/51 [==============================] - 0s 8ms/step - loss: 3.3933e-04\n",
            "Epoch 43/50\n",
            "51/51 [==============================] - 0s 8ms/step - loss: 3.1837e-04\n",
            "Epoch 44/50\n",
            "51/51 [==============================] - 0s 8ms/step - loss: 3.3926e-04\n",
            "Epoch 45/50\n",
            "51/51 [==============================] - 0s 8ms/step - loss: 3.5252e-04\n",
            "Epoch 46/50\n",
            "51/51 [==============================] - 1s 10ms/step - loss: 3.0187e-04\n",
            "Epoch 47/50\n",
            "51/51 [==============================] - 1s 10ms/step - loss: 2.8952e-04\n",
            "Epoch 48/50\n",
            "51/51 [==============================] - 1s 11ms/step - loss: 3.0473e-04\n",
            "Epoch 49/50\n",
            "51/51 [==============================] - 1s 11ms/step - loss: 2.8260e-04\n",
            "Epoch 50/50\n",
            "51/51 [==============================] - 0s 8ms/step - loss: 3.0097e-04\n"
          ]
        },
        {
          "output_type": "execute_result",
          "data": {
            "text/plain": [
              "<keras.callbacks.History at 0x79a73c53a320>"
            ]
          },
          "metadata": {},
          "execution_count": 9
        }
      ]
    },
    {
      "cell_type": "markdown",
      "source": [
        "**Step 09 : Make predictions on the test data**"
      ],
      "metadata": {
        "id": "8f8bjhUk9dVb"
      }
    },
    {
      "cell_type": "code",
      "source": [
        "predictions=model.predict(x_test)\n",
        "predictions=scaler.inverse_transform(predictions)"
      ],
      "metadata": {
        "colab": {
          "base_uri": "https://localhost:8080/"
        },
        "id": "AlsaxuSzyEso",
        "outputId": "3a28068d-d334-4638-c3f4-d6c52f19b657"
      },
      "execution_count": 10,
      "outputs": [
        {
          "output_type": "stream",
          "name": "stdout",
          "text": [
            "13/13 [==============================] - 1s 2ms/step\n"
          ]
        }
      ]
    },
    {
      "cell_type": "markdown",
      "source": [
        "**Step 10 : Printing the predicted values**"
      ],
      "metadata": {
        "id": "rXDcF1ld9jhX"
      }
    },
    {
      "cell_type": "code",
      "source": [
        "print('Predicted Values : ')\n",
        "print(predictions)"
      ],
      "metadata": {
        "colab": {
          "base_uri": "https://localhost:8080/"
        },
        "id": "PEsm-4Ml6Ukx",
        "outputId": "405f3689-c66f-4997-93e8-acb4ffb95165"
      },
      "execution_count": 35,
      "outputs": [
        {
          "output_type": "stream",
          "name": "stdout",
          "text": [
            "Predicted Values : \n",
            "[[118.14252 ]\n",
            " [118.385445]\n",
            " [119.013245]\n",
            " [119.56305 ]\n",
            " [119.84013 ]\n",
            " [120.1495  ]\n",
            " [119.51188 ]\n",
            " [120.23023 ]\n",
            " [119.26721 ]\n",
            " [116.77695 ]\n",
            " [115.595215]\n",
            " [116.3281  ]\n",
            " [114.18913 ]\n",
            " [111.79135 ]\n",
            " [109.65032 ]\n",
            " [105.25686 ]\n",
            " [101.47978 ]\n",
            " [ 98.51874 ]\n",
            " [ 96.145035]\n",
            " [ 94.33472 ]\n",
            " [ 93.43404 ]\n",
            " [ 93.43917 ]\n",
            " [ 93.46037 ]\n",
            " [ 94.67114 ]\n",
            " [ 96.265305]\n",
            " [ 96.28348 ]\n",
            " [ 95.482796]\n",
            " [ 94.64344 ]\n",
            " [ 94.30933 ]\n",
            " [ 93.99001 ]\n",
            " [ 93.850174]\n",
            " [ 93.85527 ]\n",
            " [ 93.795044]\n",
            " [ 94.38255 ]\n",
            " [ 94.76058 ]\n",
            " [ 93.96212 ]\n",
            " [ 92.80754 ]\n",
            " [ 91.86866 ]\n",
            " [ 90.55175 ]\n",
            " [ 89.645164]\n",
            " [ 89.31274 ]\n",
            " [ 89.26378 ]\n",
            " [ 89.63422 ]\n",
            " [ 89.118225]\n",
            " [ 88.12643 ]\n",
            " [ 87.10271 ]\n",
            " [ 86.84713 ]\n",
            " [ 87.798035]\n",
            " [ 88.27476 ]\n",
            " [ 88.829926]\n",
            " [ 88.92431 ]\n",
            " [ 89.409386]\n",
            " [ 89.89199 ]\n",
            " [ 90.517876]\n",
            " [ 90.93321 ]\n",
            " [ 91.48778 ]\n",
            " [ 90.99191 ]\n",
            " [ 89.172356]\n",
            " [ 87.47834 ]\n",
            " [ 86.20351 ]\n",
            " [ 84.84719 ]\n",
            " [ 84.07783 ]\n",
            " [ 83.34295 ]\n",
            " [ 83.27712 ]\n",
            " [ 83.27341 ]\n",
            " [ 83.454506]\n",
            " [ 83.610176]\n",
            " [ 84.013   ]\n",
            " [ 84.91887 ]\n",
            " [ 86.24761 ]\n",
            " [ 87.50738 ]\n",
            " [ 88.62827 ]\n",
            " [ 89.805244]\n",
            " [ 90.72647 ]\n",
            " [ 91.22753 ]\n",
            " [ 91.56781 ]\n",
            " [ 91.88492 ]\n",
            " [ 92.36066 ]\n",
            " [ 91.980896]\n",
            " [ 90.94916 ]\n",
            " [ 89.72109 ]\n",
            " [ 88.32806 ]\n",
            " [ 87.16398 ]\n",
            " [ 86.54139 ]\n",
            " [ 86.86837 ]\n",
            " [ 87.42388 ]\n",
            " [ 88.63633 ]\n",
            " [ 89.09722 ]\n",
            " [ 88.87734 ]\n",
            " [ 88.84576 ]\n",
            " [ 88.48961 ]\n",
            " [ 87.86322 ]\n",
            " [ 86.51948 ]\n",
            " [ 84.955734]\n",
            " [ 84.21761 ]\n",
            " [ 84.22432 ]\n",
            " [ 84.95218 ]\n",
            " [ 85.69257 ]\n",
            " [ 86.438805]\n",
            " [ 87.54755 ]\n",
            " [ 87.962494]\n",
            " [ 88.12475 ]\n",
            " [ 87.918655]\n",
            " [ 89.38201 ]\n",
            " [ 90.815994]\n",
            " [ 91.4496  ]\n",
            " [ 91.62325 ]\n",
            " [ 92.13894 ]\n",
            " [ 92.445404]\n",
            " [ 92.371544]\n",
            " [ 92.158806]\n",
            " [ 92.573494]\n",
            " [ 93.40441 ]\n",
            " [ 94.1147  ]\n",
            " [ 94.51756 ]\n",
            " [ 93.985565]\n",
            " [ 93.61881 ]\n",
            " [ 93.63482 ]\n",
            " [ 93.70366 ]\n",
            " [ 92.67924 ]\n",
            " [ 92.38327 ]\n",
            " [ 92.13595 ]\n",
            " [ 92.2273  ]\n",
            " [ 91.99108 ]\n",
            " [ 90.91754 ]\n",
            " [ 90.15279 ]\n",
            " [ 91.51267 ]\n",
            " [ 94.019905]\n",
            " [ 97.2817  ]\n",
            " [100.03426 ]\n",
            " [102.904625]\n",
            " [103.77766 ]\n",
            " [104.81188 ]\n",
            " [105.54225 ]\n",
            " [107.33825 ]\n",
            " [107.87074 ]\n",
            " [106.96959 ]\n",
            " [106.649956]\n",
            " [106.438126]\n",
            " [106.76297 ]\n",
            " [107.31757 ]\n",
            " [106.66321 ]\n",
            " [106.03087 ]\n",
            " [104.80096 ]\n",
            " [102.74593 ]\n",
            " [101.58003 ]\n",
            " [101.55792 ]\n",
            " [102.00735 ]\n",
            " [101.80329 ]\n",
            " [101.98673 ]\n",
            " [101.955414]\n",
            " [101.49869 ]\n",
            " [101.36602 ]\n",
            " [100.932274]\n",
            " [101.999245]\n",
            " [102.668755]\n",
            " [102.98027 ]\n",
            " [103.48226 ]\n",
            " [101.92861 ]\n",
            " [ 99.92614 ]\n",
            " [ 97.37815 ]\n",
            " [ 95.34199 ]\n",
            " [ 93.886856]\n",
            " [ 92.975075]\n",
            " [ 92.20025 ]\n",
            " [ 91.60058 ]\n",
            " [ 91.807045]\n",
            " [ 92.49939 ]\n",
            " [ 94.562675]\n",
            " [ 96.025215]\n",
            " [ 97.355736]\n",
            " [ 98.64511 ]\n",
            " [ 99.4859  ]\n",
            " [ 98.77287 ]\n",
            " [ 98.01955 ]\n",
            " [ 97.89572 ]\n",
            " [ 96.87096 ]\n",
            " [ 95.60199 ]\n",
            " [ 94.768906]\n",
            " [ 94.409   ]\n",
            " [ 93.65283 ]\n",
            " [ 91.86535 ]\n",
            " [ 90.1388  ]\n",
            " [ 89.266136]\n",
            " [ 88.26987 ]\n",
            " [ 88.17997 ]\n",
            " [ 89.438034]\n",
            " [ 91.68506 ]\n",
            " [ 94.149086]\n",
            " [ 95.68567 ]\n",
            " [ 96.524506]\n",
            " [ 96.85536 ]\n",
            " [ 97.16954 ]\n",
            " [ 97.91195 ]\n",
            " [ 98.2125  ]\n",
            " [ 99.103294]\n",
            " [ 99.63924 ]\n",
            " [ 99.3126  ]\n",
            " [ 98.776405]\n",
            " [ 97.97694 ]\n",
            " [ 97.77551 ]\n",
            " [ 98.250946]\n",
            " [ 98.9595  ]\n",
            " [ 99.75827 ]\n",
            " [100.87774 ]\n",
            " [102.15907 ]\n",
            " [103.240105]\n",
            " [103.24479 ]\n",
            " [103.18972 ]\n",
            " [102.74306 ]\n",
            " [102.21802 ]\n",
            " [101.52048 ]\n",
            " [101.81808 ]\n",
            " [102.33375 ]\n",
            " [102.54104 ]\n",
            " [103.23375 ]\n",
            " [105.11539 ]\n",
            " [106.09257 ]\n",
            " [106.14169 ]\n",
            " [104.821884]\n",
            " [103.15333 ]\n",
            " [101.032425]\n",
            " [ 99.24325 ]\n",
            " [ 97.79141 ]\n",
            " [ 97.59873 ]\n",
            " [ 97.758934]\n",
            " [ 98.32307 ]\n",
            " [ 98.38207 ]\n",
            " [ 98.349724]\n",
            " [ 98.38385 ]\n",
            " [ 98.24066 ]\n",
            " [ 97.99513 ]\n",
            " [ 98.304245]\n",
            " [ 98.515495]\n",
            " [ 99.68099 ]\n",
            " [100.55186 ]\n",
            " [ 99.67283 ]\n",
            " [ 98.51852 ]\n",
            " [ 96.83109 ]\n",
            " [ 94.139145]\n",
            " [ 92.497574]\n",
            " [ 91.546906]\n",
            " [ 91.269745]\n",
            " [ 90.822044]\n",
            " [ 90.30329 ]\n",
            " [ 89.584785]\n",
            " [ 91.10599 ]\n",
            " [ 93.22363 ]\n",
            " [ 94.87802 ]\n",
            " [ 95.44875 ]\n",
            " [ 97.5146  ]\n",
            " [ 97.38992 ]\n",
            " [ 97.00499 ]\n",
            " [ 96.295235]\n",
            " [ 94.88308 ]\n",
            " [ 92.68676 ]\n",
            " [ 90.85661 ]\n",
            " [ 90.90087 ]\n",
            " [ 92.40348 ]\n",
            " [ 93.8431  ]\n",
            " [ 95.102135]\n",
            " [ 96.26921 ]\n",
            " [ 97.34036 ]\n",
            " [ 98.37616 ]\n",
            " [ 99.177055]\n",
            " [101.54171 ]\n",
            " [103.64134 ]\n",
            " [105.06631 ]\n",
            " [105.66224 ]\n",
            " [106.05632 ]\n",
            " [105.782295]\n",
            " [105.33217 ]\n",
            " [105.00482 ]\n",
            " [104.66393 ]\n",
            " [104.08669 ]\n",
            " [103.789444]\n",
            " [103.10494 ]\n",
            " [103.22173 ]\n",
            " [104.73589 ]\n",
            " [107.0274  ]\n",
            " [109.25331 ]\n",
            " [111.0192  ]\n",
            " [111.57965 ]\n",
            " [110.53421 ]\n",
            " [109.08529 ]\n",
            " [108.623566]\n",
            " [108.61712 ]\n",
            " [108.831474]\n",
            " [109.913315]\n",
            " [110.872696]\n",
            " [111.87705 ]\n",
            " [113.25979 ]\n",
            " [114.17752 ]\n",
            " [114.56112 ]\n",
            " [114.54754 ]\n",
            " [114.195786]\n",
            " [113.438705]\n",
            " [112.22776 ]\n",
            " [111.46734 ]\n",
            " [112.12722 ]\n",
            " [113.10674 ]\n",
            " [113.790344]\n",
            " [113.90122 ]\n",
            " [114.178734]\n",
            " [114.23542 ]\n",
            " [113.63325 ]\n",
            " [113.04369 ]\n",
            " [112.48048 ]\n",
            " [111.32572 ]\n",
            " [112.559975]\n",
            " [114.17683 ]\n",
            " [116.282646]\n",
            " [117.90613 ]\n",
            " [118.69532 ]\n",
            " [119.49765 ]\n",
            " [121.185326]\n",
            " [122.5648  ]\n",
            " [124.499985]\n",
            " [127.2184  ]\n",
            " [127.6352  ]\n",
            " [126.51033 ]\n",
            " [125.50252 ]\n",
            " [124.389145]\n",
            " [123.72497 ]\n",
            " [123.62301 ]\n",
            " [123.514565]\n",
            " [123.49114 ]\n",
            " [124.98832 ]\n",
            " [125.77234 ]\n",
            " [126.14244 ]\n",
            " [126.64609 ]\n",
            " [127.02928 ]\n",
            " [127.88774 ]\n",
            " [128.18735 ]\n",
            " [128.38249 ]\n",
            " [128.41402 ]\n",
            " [128.47581 ]\n",
            " [129.65938 ]\n",
            " [130.9455  ]\n",
            " [130.82219 ]\n",
            " [131.56004 ]\n",
            " [131.61787 ]\n",
            " [131.7808  ]\n",
            " [130.41344 ]\n",
            " [128.35327 ]\n",
            " [126.0252  ]\n",
            " [124.06713 ]\n",
            " [121.77625 ]\n",
            " [120.6746  ]\n",
            " [120.719925]\n",
            " [121.34042 ]\n",
            " [122.43403 ]\n",
            " [122.76589 ]\n",
            " [121.85175 ]\n",
            " [121.4936  ]\n",
            " [122.069984]\n",
            " [122.053406]\n",
            " [121.733284]\n",
            " [121.818245]\n",
            " [122.19522 ]\n",
            " [123.22154 ]\n",
            " [124.70436 ]\n",
            " [125.60577 ]\n",
            " [126.19617 ]\n",
            " [124.909386]\n",
            " [123.24642 ]\n",
            " [122.11851 ]\n",
            " [121.717804]\n",
            " [120.81513 ]\n",
            " [119.14889 ]\n",
            " [117.91906 ]\n",
            " [117.34884 ]\n",
            " [116.77598 ]\n",
            " [116.23718 ]\n",
            " [115.97043 ]\n",
            " [114.19232 ]\n",
            " [113.121056]\n",
            " [111.24204 ]\n",
            " [110.16975 ]\n",
            " [110.01745 ]\n",
            " [111.10093 ]\n",
            " [111.70035 ]\n",
            " [112.41929 ]\n",
            " [112.42593 ]\n",
            " [112.404854]\n",
            " [112.11841 ]\n",
            " [112.47361 ]\n",
            " [113.65362 ]\n",
            " [115.27649 ]\n",
            " [116.18125 ]\n",
            " [116.19036 ]\n",
            " [116.1052  ]\n",
            " [116.53989 ]\n",
            " [117.0876  ]\n",
            " [117.14825 ]\n",
            " [118.05753 ]]\n"
          ]
        }
      ]
    },
    {
      "cell_type": "markdown",
      "source": [
        "**Step 11 : Visualizing the Results**"
      ],
      "metadata": {
        "id": "K7PMnY_O9r19"
      }
    },
    {
      "cell_type": "code",
      "source": [
        "plt.plot(scaler.inverse_transform(test_data),label='Actual Stock Price')\n",
        "plt.plot(predictions,label='Predicted Stock Price')\n",
        "plt.xlabel('Time')\n",
        "plt.ylabel('Stock Price')\n",
        "plt.legend()\n",
        "plt.show()"
      ],
      "metadata": {
        "colab": {
          "base_uri": "https://localhost:8080/",
          "height": 449
        },
        "id": "TZr-4yWGyOgk",
        "outputId": "00b6e103-b1cd-45fa-e4aa-88767d339402"
      },
      "execution_count": 11,
      "outputs": [
        {
          "output_type": "display_data",
          "data": {
            "text/plain": [
              "<Figure size 640x480 with 1 Axes>"
            ],
            "image/png": "[encoded data removed]"
          },
          "metadata": {}
        }
      ]
    }
  ]
}